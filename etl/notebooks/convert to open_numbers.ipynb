{
 "cells": [
  {
   "cell_type": "code",
   "execution_count": 88,
   "metadata": {},
   "outputs": [],
   "source": [
    "import pandas as pd\n",
    "import numpy as np"
   ]
  },
  {
   "cell_type": "code",
   "execution_count": 95,
   "metadata": {},
   "outputs": [],
   "source": [
    "from ddf_utils.str import format_float_digits"
   ]
  },
  {
   "cell_type": "code",
   "execution_count": null,
   "metadata": {},
   "outputs": [],
   "source": []
  },
  {
   "cell_type": "code",
   "execution_count": 2,
   "metadata": {},
   "outputs": [],
   "source": [
    "synonyms = '../../../ddf--open_numbers/ddf--synonyms--geo.csv'"
   ]
  },
  {
   "cell_type": "code",
   "execution_count": 51,
   "metadata": {},
   "outputs": [],
   "source": [
    "syn = pd.read_csv(synonyms, keep_default_na=False, dtype=str)"
   ]
  },
  {
   "cell_type": "code",
   "execution_count": 11,
   "metadata": {},
   "outputs": [
    {
     "data": {
      "text/plain": [
       "Index(['synonym', 'geo'], dtype='object')"
      ]
     },
     "execution_count": 11,
     "metadata": {},
     "output_type": "execute_result"
    }
   ],
   "source": [
    "syn.columns"
   ]
  },
  {
   "cell_type": "code",
   "execution_count": 52,
   "metadata": {},
   "outputs": [],
   "source": [
    "syn_dict = syn.set_index('synonym')['geo'].to_dict()"
   ]
  },
  {
   "cell_type": "code",
   "execution_count": 53,
   "metadata": {},
   "outputs": [
    {
     "data": {
      "text/plain": [
       "'chn'"
      ]
     },
     "execution_count": 53,
     "metadata": {},
     "output_type": "execute_result"
    }
   ],
   "source": [
    "syn_dict['China']"
   ]
  },
  {
   "cell_type": "code",
   "execution_count": 56,
   "metadata": {},
   "outputs": [],
   "source": [
    "geo = pd.read_csv('../../ddf--entities--geo.csv', dtype=str)"
   ]
  },
  {
   "cell_type": "code",
   "execution_count": 9,
   "metadata": {},
   "outputs": [],
   "source": [
    "def transform(x):\n",
    "    if x in syn_dict.keys():\n",
    "        return syn_dict[x]\n",
    "    else:\n",
    "        print(f\"{x} not found\")\n",
    "        return None"
   ]
  },
  {
   "cell_type": "code",
   "execution_count": null,
   "metadata": {},
   "outputs": [],
   "source": []
  },
  {
   "cell_type": "code",
   "execution_count": 57,
   "metadata": {
    "scrolled": false
   },
   "outputs": [
    {
     "name": "stdout",
     "output_type": "stream",
     "text": [
      "WORLD not found\n",
      "More developed regions not found\n",
      "Less developed regions not found\n",
      "Least developed countries not found\n",
      "Less developed regions, excluding least developed countries not found\n",
      "High-income countries not found\n",
      "Middle-income countries not found\n",
      "Upper-middle-income countries not found\n",
      "Lower-middle-income countries not found\n",
      "Low-income countries not found\n",
      "No income group available not found\n",
      "Africa not found\n",
      "Asia not found\n",
      "Europe not found\n",
      "Latin America and the Caribbean not found\n",
      "Northern America not found\n",
      "OCEANIA not found\n",
      "SUB-SAHARAN AFRICA not found\n",
      "Eastern Africa not found\n",
      "Middle Africa not found\n",
      "Southern Africa not found\n",
      "Western Africa not found\n",
      "NORTHERN AFRICA AND WESTERN ASIA not found\n",
      "Northern Africa not found\n",
      "Western Asia not found\n",
      "CENTRAL AND SOUTHERN ASIA not found\n",
      "Central Asia not found\n",
      "Southern Asia not found\n",
      "EASTERN AND SOUTH-EASTERN ASIA not found\n",
      "Eastern Asia not found\n",
      "South-Eastern Asia not found\n",
      "LATIN AMERICA AND THE CARIBBEAN not found\n",
      "Caribbean not found\n",
      "Central America not found\n",
      "South America not found\n",
      "Australia / New Zealand not found\n",
      "Melanesia not found\n",
      "Polynesia not found\n",
      "EUROPE AND NORTHERN AMERICA not found\n",
      "EUROPE not found\n",
      "Eastern Europe not found\n",
      "Northern Europe not found\n",
      "Southern Europe not found\n",
      "Western Europe not found\n",
      "NORTHERN AMERICA not found\n",
      "Other South not found\n",
      "Other North not found\n"
     ]
    }
   ],
   "source": [
    "name_new = geo['name'].map(transform)"
   ]
  },
  {
   "cell_type": "code",
   "execution_count": null,
   "metadata": {},
   "outputs": [],
   "source": []
  },
  {
   "cell_type": "code",
   "execution_count": 58,
   "metadata": {},
   "outputs": [],
   "source": [
    "geo['name_new'] = name_new"
   ]
  },
  {
   "cell_type": "code",
   "execution_count": 59,
   "metadata": {},
   "outputs": [],
   "source": [
    "geo_map = geo.set_index('geo')['name_new'].dropna().to_dict()"
   ]
  },
  {
   "cell_type": "code",
   "execution_count": 23,
   "metadata": {},
   "outputs": [
    {
     "name": "stdout",
     "output_type": "stream",
     "text": [
      "../../ddf--datapoints--emigrant_stock--by--geo--sex--year.csv\r\n",
      "../../ddf--datapoints--emigrant_stock--by--geo--year.csv\r\n",
      "../../ddf--datapoints--immigrant_stock--by--geo--sex--year.csv\r\n",
      "../../ddf--datapoints--immigrant_stock--by--geo--year.csv\r\n",
      "../../ddf--datapoints--migration_stock--by--destination--origin--sex--year.csv\r\n",
      "../../ddf--datapoints--migration_stock--by--destination--origin--year.csv\r\n"
     ]
    }
   ],
   "source": [
    "!ls ../../*datapoint*"
   ]
  },
  {
   "cell_type": "code",
   "execution_count": 24,
   "metadata": {},
   "outputs": [],
   "source": [
    "import os"
   ]
  },
  {
   "cell_type": "code",
   "execution_count": 98,
   "metadata": {},
   "outputs": [],
   "source": [
    "def convert(df_):\n",
    "    df = df_.copy()\n",
    "    for c in ['geo', 'destination', 'origin']:\n",
    "        if c in df.columns:\n",
    "            df[c] = df[c].map(geo_map)\n",
    "    #print(df.dropna().head())\n",
    "    df = df.dropna(how='any')\n",
    "    for c in ['emigrant_stock', 'immigrant_stock', 'migration_stock']:\n",
    "        if c in df.columns and df.dtypes[c] != np.int:\n",
    "            print('converting')\n",
    "            df[c] = df[c].map(lambda x: format_float_digits(x, digits=0))\n",
    "    return df"
   ]
  },
  {
   "cell_type": "code",
   "execution_count": 91,
   "metadata": {},
   "outputs": [],
   "source": [
    "dtype={'geo': str, 'destination': str, 'origin': str,}\n",
    "       # 'emigrant_stock': np.int, 'immigrant_stock': np.int, 'migration_stock': np.int}"
   ]
  },
  {
   "cell_type": "code",
   "execution_count": 99,
   "metadata": {},
   "outputs": [
    {
     "name": "stdout",
     "output_type": "stream",
     "text": [
      "ddf--datapoints--immigrant_stock--by--geo--year.csv\n",
      "converting\n",
      "ddf--datapoints--migration_stock--by--destination--origin--year.csv\n",
      "converting\n",
      "ddf--datapoints--immigrant_stock--by--geo--sex--year.csv\n",
      "converting\n",
      "ddf--datapoints--migration_stock--by--destination--origin--sex--year.csv\n",
      "converting\n",
      "ddf--datapoints--emigrant_stock--by--geo--sex--year.csv\n",
      "ddf--datapoints--emigrant_stock--by--geo--year.csv\n"
     ]
    }
   ],
   "source": [
    "for f in os.listdir('../../'):\n",
    "    if \"datapoints\" in f:\n",
    "        print(f)\n",
    "        df = pd.read_csv(f'../../{f}', dtype=dtype)\n",
    "        # print(df.dtypes)\n",
    "        df = convert(df)\n",
    "        df.to_csv(f'../../{f}', index=False)"
   ]
  },
  {
   "cell_type": "code",
   "execution_count": null,
   "metadata": {},
   "outputs": [],
   "source": []
  },
  {
   "cell_type": "code",
   "execution_count": 64,
   "metadata": {},
   "outputs": [],
   "source": [
    "!cp ../../../ddf--open_numbers/ddf--entities--geo* ../../"
   ]
  },
  {
   "cell_type": "code",
   "execution_count": null,
   "metadata": {},
   "outputs": [],
   "source": []
  },
  {
   "cell_type": "code",
   "execution_count": null,
   "metadata": {},
   "outputs": [],
   "source": [
    "# concepts"
   ]
  },
  {
   "cell_type": "code",
   "execution_count": 37,
   "metadata": {},
   "outputs": [],
   "source": [
    "cdf0 = pd.read_csv('../../ddf--concepts.csv')"
   ]
  },
  {
   "cell_type": "code",
   "execution_count": 38,
   "metadata": {},
   "outputs": [],
   "source": [
    "cdf0 = cdf0[cdf0.concept_type == 'measure']"
   ]
  },
  {
   "cell_type": "code",
   "execution_count": 39,
   "metadata": {},
   "outputs": [
    {
     "data": {
      "text/html": [
       "<div>\n",
       "<style scoped>\n",
       "    .dataframe tbody tr th:only-of-type {\n",
       "        vertical-align: middle;\n",
       "    }\n",
       "\n",
       "    .dataframe tbody tr th {\n",
       "        vertical-align: top;\n",
       "    }\n",
       "\n",
       "    .dataframe thead th {\n",
       "        text-align: right;\n",
       "    }\n",
       "</style>\n",
       "<table border=\"1\" class=\"dataframe\">\n",
       "  <thead>\n",
       "    <tr style=\"text-align: right;\">\n",
       "      <th></th>\n",
       "      <th>concept</th>\n",
       "      <th>concept_type</th>\n",
       "      <th>name</th>\n",
       "      <th>domain</th>\n",
       "    </tr>\n",
       "  </thead>\n",
       "  <tbody>\n",
       "    <tr>\n",
       "      <th>2</th>\n",
       "      <td>migration_stock</td>\n",
       "      <td>measure</td>\n",
       "      <td>Migration Stock</td>\n",
       "      <td>NaN</td>\n",
       "    </tr>\n",
       "    <tr>\n",
       "      <th>3</th>\n",
       "      <td>emigrant_stock</td>\n",
       "      <td>measure</td>\n",
       "      <td>Emigrant Stock</td>\n",
       "      <td>NaN</td>\n",
       "    </tr>\n",
       "    <tr>\n",
       "      <th>4</th>\n",
       "      <td>immigrant_stock</td>\n",
       "      <td>measure</td>\n",
       "      <td>Immigrant Stock</td>\n",
       "      <td>NaN</td>\n",
       "    </tr>\n",
       "  </tbody>\n",
       "</table>\n",
       "</div>"
      ],
      "text/plain": [
       "           concept concept_type             name domain\n",
       "2  migration_stock      measure  Migration Stock    NaN\n",
       "3   emigrant_stock      measure   Emigrant Stock    NaN\n",
       "4  immigrant_stock      measure  Immigrant Stock    NaN"
      ]
     },
     "execution_count": 39,
     "metadata": {},
     "output_type": "execute_result"
    }
   ],
   "source": [
    "cdf0"
   ]
  },
  {
   "cell_type": "code",
   "execution_count": 40,
   "metadata": {},
   "outputs": [],
   "source": [
    "cdf0.to_csv('../../ddf--concepts--continuous.csv', index=False)"
   ]
  },
  {
   "cell_type": "code",
   "execution_count": null,
   "metadata": {},
   "outputs": [],
   "source": []
  },
  {
   "cell_type": "code",
   "execution_count": 70,
   "metadata": {},
   "outputs": [],
   "source": [
    "cdf1 = pd.read_csv('../../../ddf--open_numbers/ddf--concepts.csv')"
   ]
  },
  {
   "cell_type": "code",
   "execution_count": 71,
   "metadata": {},
   "outputs": [],
   "source": [
    "cdf1 = cdf1.append(\n",
    "    pd.DataFrame.from_records([{\n",
    "        'concept': 'sex',\n",
    "        'name': 'Sex',\n",
    "        'concept_type': 'entity_domain'\n",
    "    },\n",
    "    {\n",
    "        'concept': 'year',\n",
    "        'name': 'Year',\n",
    "        'concept_type': 'time'\n",
    "    },\n",
    "    {\n",
    "        'concept': 'origin',\n",
    "        'concept_type': 'role',\n",
    "        'name': 'Origin',\n",
    "        'domain': 'geo'\n",
    "    },\n",
    "    {\n",
    "        'concept': 'destination',\n",
    "        'concept_type': 'role',\n",
    "        'name': 'Destination',\n",
    "        'domain': 'geo'\n",
    "    }]),\n",
    "    sort=False\n",
    ")"
   ]
  },
  {
   "cell_type": "code",
   "execution_count": 72,
   "metadata": {},
   "outputs": [],
   "source": [
    "cdf1.to_csv('../../ddf--concepts--discrete.csv', index=False)"
   ]
  },
  {
   "cell_type": "code",
   "execution_count": null,
   "metadata": {},
   "outputs": [],
   "source": []
  },
  {
   "cell_type": "code",
   "execution_count": null,
   "metadata": {},
   "outputs": [],
   "source": []
  },
  {
   "cell_type": "code",
   "execution_count": null,
   "metadata": {},
   "outputs": [],
   "source": []
  },
  {
   "cell_type": "code",
   "execution_count": 84,
   "metadata": {},
   "outputs": [],
   "source": [
    "d = pd.read_csv('../../ddf--datapoints--immigrant_stock--by--geo--year.csv')"
   ]
  },
  {
   "cell_type": "code",
   "execution_count": 87,
   "metadata": {},
   "outputs": [
    {
     "data": {
      "text/plain": [
       "0       153011473\n",
       "1        82767216\n",
       "2        70244257\n",
       "3        11060221\n",
       "4        59184036\n",
       "5        77802868\n",
       "6        65124366\n",
       "7        33285549\n",
       "8        31838817\n",
       "9         9790238\n",
       "10       15689666\n",
       "11       48209949\n",
       "12       49608231\n",
       "13        7161371\n",
       "14       27610408\n",
       "15        4731848\n",
       "16       13286341\n",
       "17        5959183\n",
       "18         333110\n",
       "19          14079\n",
       "20         122221\n",
       "21          11848\n",
       "22        1155390\n",
       "23         298089\n",
       "24          23917\n",
       "25        1127724\n",
       "26           3613\n",
       "27          15229\n",
       "28         122332\n",
       "29          57210\n",
       "          ...    \n",
       "1894        35735\n",
       "1895       518083\n",
       "1896        11172\n",
       "1897      1211382\n",
       "1898          799\n",
       "1899      6273722\n",
       "1900        84949\n",
       "1901        70967\n",
       "1902       131175\n",
       "1903       888162\n",
       "1904         5507\n",
       "1905       820312\n",
       "1906       253122\n",
       "1907      6104203\n",
       "1908     30427318\n",
       "1909      1779857\n",
       "1910      1981919\n",
       "1911      8334875\n",
       "1912     13132146\n",
       "1913        25467\n",
       "1914       291723\n",
       "1915        26511\n",
       "1916      2282791\n",
       "1917      2572029\n",
       "1918     58647822\n",
       "1919        19336\n",
       "1920      7960657\n",
       "1921         5690\n",
       "1922          990\n",
       "1923     50661149\n",
       "Name: immigrant_stock, Length: 1924, dtype: int64"
      ]
     },
     "execution_count": 87,
     "metadata": {},
     "output_type": "execute_result"
    }
   ],
   "source": [
    "d['immigrant_stock'].map(int)"
   ]
  },
  {
   "cell_type": "code",
   "execution_count": null,
   "metadata": {},
   "outputs": [],
   "source": []
  }
 ],
 "metadata": {
  "kernelspec": {
   "display_name": "Python 3",
   "language": "python",
   "name": "python3"
  },
  "language_info": {
   "codemirror_mode": {
    "name": "ipython",
    "version": 3
   },
   "file_extension": ".py",
   "mimetype": "text/x-python",
   "name": "python",
   "nbconvert_exporter": "python",
   "pygments_lexer": "ipython3",
   "version": "3.7.3"
  }
 },
 "nbformat": 4,
 "nbformat_minor": 2
}
