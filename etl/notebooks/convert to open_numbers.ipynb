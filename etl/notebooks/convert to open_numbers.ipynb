{
 "cells": [
  {
   "cell_type": "code",
   "execution_count": 1,
   "metadata": {},
   "outputs": [],
   "source": [
    "import pandas as pd"
   ]
  },
  {
   "cell_type": "code",
   "execution_count": 2,
   "metadata": {},
   "outputs": [],
   "source": [
    "synonyms = '../../../ddf--open_numbers/ddf--synonyms--geo.csv'"
   ]
  },
  {
   "cell_type": "code",
   "execution_count": 51,
   "metadata": {},
   "outputs": [],
   "source": [
    "syn = pd.read_csv(synonyms, keep_default_na=False, dtype=str)"
   ]
  },
  {
   "cell_type": "code",
   "execution_count": 11,
   "metadata": {},
   "outputs": [
    {
     "data": {
      "text/plain": [
       "Index(['synonym', 'geo'], dtype='object')"
      ]
     },
     "execution_count": 11,
     "metadata": {},
     "output_type": "execute_result"
    }
   ],
   "source": [
    "syn.columns"
   ]
  },
  {
   "cell_type": "code",
   "execution_count": 52,
   "metadata": {},
   "outputs": [],
   "source": [
    "syn_dict = syn.set_index('synonym')['geo'].to_dict()"
   ]
  },
  {
   "cell_type": "code",
   "execution_count": 53,
   "metadata": {},
   "outputs": [
    {
     "data": {
      "text/plain": [
       "'chn'"
      ]
     },
     "execution_count": 53,
     "metadata": {},
     "output_type": "execute_result"
    }
   ],
   "source": [
    "syn_dict['China']"
   ]
  },
  {
   "cell_type": "code",
   "execution_count": 56,
   "metadata": {},
   "outputs": [],
   "source": [
    "geo = pd.read_csv('../../ddf--entities--geo.csv', dtype=str)"
   ]
  },
  {
   "cell_type": "code",
   "execution_count": 9,
   "metadata": {},
   "outputs": [],
   "source": [
    "def transform(x):\n",
    "    if x in syn_dict.keys():\n",
    "        return syn_dict[x]\n",
    "    else:\n",
    "        print(f\"{x} not found\")\n",
    "        return None"
   ]
  },
  {
   "cell_type": "code",
   "execution_count": null,
   "metadata": {},
   "outputs": [],
   "source": []
  },
  {
   "cell_type": "code",
   "execution_count": 57,
   "metadata": {
    "scrolled": false
   },
   "outputs": [
    {
     "name": "stdout",
     "output_type": "stream",
     "text": [
      "WORLD not found\n",
      "More developed regions not found\n",
      "Less developed regions not found\n",
      "Least developed countries not found\n",
      "Less developed regions, excluding least developed countries not found\n",
      "High-income countries not found\n",
      "Middle-income countries not found\n",
      "Upper-middle-income countries not found\n",
      "Lower-middle-income countries not found\n",
      "Low-income countries not found\n",
      "No income group available not found\n",
      "Africa not found\n",
      "Asia not found\n",
      "Europe not found\n",
      "Latin America and the Caribbean not found\n",
      "Northern America not found\n",
      "OCEANIA not found\n",
      "SUB-SAHARAN AFRICA not found\n",
      "Eastern Africa not found\n",
      "Middle Africa not found\n",
      "Southern Africa not found\n",
      "Western Africa not found\n",
      "NORTHERN AFRICA AND WESTERN ASIA not found\n",
      "Northern Africa not found\n",
      "Western Asia not found\n",
      "CENTRAL AND SOUTHERN ASIA not found\n",
      "Central Asia not found\n",
      "Southern Asia not found\n",
      "EASTERN AND SOUTH-EASTERN ASIA not found\n",
      "Eastern Asia not found\n",
      "South-Eastern Asia not found\n",
      "LATIN AMERICA AND THE CARIBBEAN not found\n",
      "Caribbean not found\n",
      "Central America not found\n",
      "South America not found\n",
      "Australia / New Zealand not found\n",
      "Melanesia not found\n",
      "Polynesia not found\n",
      "EUROPE AND NORTHERN AMERICA not found\n",
      "EUROPE not found\n",
      "Eastern Europe not found\n",
      "Northern Europe not found\n",
      "Southern Europe not found\n",
      "Western Europe not found\n",
      "NORTHERN AMERICA not found\n",
      "Other South not found\n",
      "Other North not found\n"
     ]
    }
   ],
   "source": [
    "name_new = geo['name'].map(transform)"
   ]
  },
  {
   "cell_type": "code",
   "execution_count": null,
   "metadata": {},
   "outputs": [],
   "source": []
  },
  {
   "cell_type": "code",
   "execution_count": 58,
   "metadata": {},
   "outputs": [],
   "source": [
    "geo['name_new'] = name_new"
   ]
  },
  {
   "cell_type": "code",
   "execution_count": 59,
   "metadata": {},
   "outputs": [],
   "source": [
    "geo_map = geo.set_index('geo')['name_new'].dropna().to_dict()"
   ]
  },
  {
   "cell_type": "code",
   "execution_count": 23,
   "metadata": {},
   "outputs": [
    {
     "name": "stdout",
     "output_type": "stream",
     "text": [
      "../../ddf--datapoints--emigrant_stock--by--geo--sex--year.csv\r\n",
      "../../ddf--datapoints--emigrant_stock--by--geo--year.csv\r\n",
      "../../ddf--datapoints--immigrant_stock--by--geo--sex--year.csv\r\n",
      "../../ddf--datapoints--immigrant_stock--by--geo--year.csv\r\n",
      "../../ddf--datapoints--migration_stock--by--destination--origin--sex--year.csv\r\n",
      "../../ddf--datapoints--migration_stock--by--destination--origin--year.csv\r\n"
     ]
    }
   ],
   "source": [
    "!ls ../../*datapoint*"
   ]
  },
  {
   "cell_type": "code",
   "execution_count": 24,
   "metadata": {},
   "outputs": [],
   "source": [
    "import os"
   ]
  },
  {
   "cell_type": "code",
   "execution_count": 49,
   "metadata": {},
   "outputs": [],
   "source": [
    "def convert(df):\n",
    "    for c in ['geo', 'destination', 'origin']:\n",
    "        if c in df.columns:\n",
    "            df[c] = df[c].map(geo_map)\n",
    "    print(df.dropna().head())\n",
    "    return df.dropna(how='any')"
   ]
  },
  {
   "cell_type": "code",
   "execution_count": null,
   "metadata": {},
   "outputs": [],
   "source": []
  },
  {
   "cell_type": "code",
   "execution_count": 62,
   "metadata": {},
   "outputs": [
    {
     "name": "stdout",
     "output_type": "stream",
     "text": [
      "    geo  year  immigrant_stock\n",
      "18  bdi  1990         333110.0\n",
      "19  com  1990          14079.0\n",
      "20  dji  1990         122221.0\n",
      "21  eri  1990          11848.0\n",
      "22  eth  1990        1155390.0\n",
      "     destination origin  year  migration_stock\n",
      "4233         bdi    bel  1990            642.0\n",
      "4234         bdi    cod  1990          36654.0\n",
      "4235         bdi    fra  1990            321.0\n",
      "4236         bdi    ken  1990            186.0\n",
      "4237         bdi    rwa  1990         221943.0\n",
      "    geo   sex  year  immigrant_stock\n",
      "18  bdi  male  1990         163267.0\n",
      "19  com  male  1990           6717.0\n",
      "20  dji  male  1990          64242.0\n",
      "21  eri  male  1990           6228.0\n",
      "22  eth  male  1990         607284.0\n",
      "     destination origin   sex  year  migration_stock\n",
      "4233         bdi    bel  male  1990            315.0\n",
      "4234         bdi    cod  male  1990          17963.0\n",
      "4235         bdi    fra  male  1990            157.0\n",
      "4236         bdi    ken  male  1990            104.0\n",
      "4237         bdi    rwa  male  1990         108772.0\n",
      "   geo   sex  year  emigrant_stock\n",
      "3  afg  male  1990         3711922\n",
      "4  alb  male  1990          109462\n",
      "5  dza  male  1990          521333\n",
      "6  asm  male  1990            1049\n",
      "7  and  male  1990            1769\n",
      "   geo  year  emigrant_stock\n",
      "3  afg  1990         6823350\n",
      "4  alb  1990          180284\n",
      "5  dza  1990          921727\n",
      "6  asm  1990            2041\n",
      "7  and  1990            3792\n"
     ]
    }
   ],
   "source": [
    "for f in os.listdir('../../'):\n",
    "    if \"datapoints\" in f:\n",
    "        df = pd.read_csv(f'../../{f}', dtype={'geo': str, 'destination': str, 'origin': str})\n",
    "        df = convert(df)\n",
    "        df.to_csv(f'../../{f}', index=False)"
   ]
  },
  {
   "cell_type": "code",
   "execution_count": null,
   "metadata": {},
   "outputs": [],
   "source": []
  },
  {
   "cell_type": "code",
   "execution_count": 64,
   "metadata": {},
   "outputs": [],
   "source": [
    "!cp ../../../ddf--open_numbers/ddf--entities--geo* ../../"
   ]
  },
  {
   "cell_type": "code",
   "execution_count": null,
   "metadata": {},
   "outputs": [],
   "source": []
  },
  {
   "cell_type": "code",
   "execution_count": null,
   "metadata": {},
   "outputs": [],
   "source": [
    "# concepts"
   ]
  },
  {
   "cell_type": "code",
   "execution_count": 37,
   "metadata": {},
   "outputs": [],
   "source": [
    "cdf0 = pd.read_csv('../../ddf--concepts.csv')"
   ]
  },
  {
   "cell_type": "code",
   "execution_count": 38,
   "metadata": {},
   "outputs": [],
   "source": [
    "cdf0 = cdf0[cdf0.concept_type == 'measure']"
   ]
  },
  {
   "cell_type": "code",
   "execution_count": 39,
   "metadata": {},
   "outputs": [
    {
     "data": {
      "text/html": [
       "<div>\n",
       "<style scoped>\n",
       "    .dataframe tbody tr th:only-of-type {\n",
       "        vertical-align: middle;\n",
       "    }\n",
       "\n",
       "    .dataframe tbody tr th {\n",
       "        vertical-align: top;\n",
       "    }\n",
       "\n",
       "    .dataframe thead th {\n",
       "        text-align: right;\n",
       "    }\n",
       "</style>\n",
       "<table border=\"1\" class=\"dataframe\">\n",
       "  <thead>\n",
       "    <tr style=\"text-align: right;\">\n",
       "      <th></th>\n",
       "      <th>concept</th>\n",
       "      <th>concept_type</th>\n",
       "      <th>name</th>\n",
       "      <th>domain</th>\n",
       "    </tr>\n",
       "  </thead>\n",
       "  <tbody>\n",
       "    <tr>\n",
       "      <th>2</th>\n",
       "      <td>migration_stock</td>\n",
       "      <td>measure</td>\n",
       "      <td>Migration Stock</td>\n",
       "      <td>NaN</td>\n",
       "    </tr>\n",
       "    <tr>\n",
       "      <th>3</th>\n",
       "      <td>emigrant_stock</td>\n",
       "      <td>measure</td>\n",
       "      <td>Emigrant Stock</td>\n",
       "      <td>NaN</td>\n",
       "    </tr>\n",
       "    <tr>\n",
       "      <th>4</th>\n",
       "      <td>immigrant_stock</td>\n",
       "      <td>measure</td>\n",
       "      <td>Immigrant Stock</td>\n",
       "      <td>NaN</td>\n",
       "    </tr>\n",
       "  </tbody>\n",
       "</table>\n",
       "</div>"
      ],
      "text/plain": [
       "           concept concept_type             name domain\n",
       "2  migration_stock      measure  Migration Stock    NaN\n",
       "3   emigrant_stock      measure   Emigrant Stock    NaN\n",
       "4  immigrant_stock      measure  Immigrant Stock    NaN"
      ]
     },
     "execution_count": 39,
     "metadata": {},
     "output_type": "execute_result"
    }
   ],
   "source": [
    "cdf0"
   ]
  },
  {
   "cell_type": "code",
   "execution_count": 40,
   "metadata": {},
   "outputs": [],
   "source": [
    "cdf0.to_csv('../../ddf--concepts--continuous.csv', index=False)"
   ]
  },
  {
   "cell_type": "code",
   "execution_count": null,
   "metadata": {},
   "outputs": [],
   "source": []
  },
  {
   "cell_type": "code",
   "execution_count": 70,
   "metadata": {},
   "outputs": [],
   "source": [
    "cdf1 = pd.read_csv('../../../ddf--open_numbers/ddf--concepts.csv')"
   ]
  },
  {
   "cell_type": "code",
   "execution_count": 71,
   "metadata": {},
   "outputs": [],
   "source": [
    "cdf1 = cdf1.append(\n",
    "    pd.DataFrame.from_records([{\n",
    "        'concept': 'sex',\n",
    "        'name': 'Sex',\n",
    "        'concept_type': 'entity_domain'\n",
    "    },\n",
    "    {\n",
    "        'concept': 'year',\n",
    "        'name': 'Year',\n",
    "        'concept_type': 'time'\n",
    "    },\n",
    "    {\n",
    "        'concept': 'origin',\n",
    "        'concept_type': 'role',\n",
    "        'name': 'Origin',\n",
    "        'domain': 'geo'\n",
    "    },\n",
    "    {\n",
    "        'concept': 'destination',\n",
    "        'concept_type': 'role',\n",
    "        'name': 'Destination',\n",
    "        'domain': 'geo'\n",
    "    }]),\n",
    "    sort=False\n",
    ")"
   ]
  },
  {
   "cell_type": "code",
   "execution_count": 72,
   "metadata": {},
   "outputs": [],
   "source": [
    "cdf1.to_csv('../../ddf--concepts--discrete.csv', index=False)"
   ]
  },
  {
   "cell_type": "code",
   "execution_count": null,
   "metadata": {},
   "outputs": [],
   "source": []
  }
 ],
 "metadata": {
  "kernelspec": {
   "display_name": "Python 3",
   "language": "python",
   "name": "python3"
  },
  "language_info": {
   "codemirror_mode": {
    "name": "ipython",
    "version": 3
   },
   "file_extension": ".py",
   "mimetype": "text/x-python",
   "name": "python",
   "nbconvert_exporter": "python",
   "pygments_lexer": "ipython3",
   "version": "3.7.3"
  }
 },
 "nbformat": 4,
 "nbformat_minor": 2
}
